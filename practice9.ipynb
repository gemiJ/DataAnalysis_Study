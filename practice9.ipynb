{
 "cells": [
  {
   "cell_type": "code",
   "execution_count": 1,
   "metadata": {},
   "outputs": [],
   "source": [
    "#practice9_1"
   ]
  },
  {
   "cell_type": "code",
   "execution_count": 2,
   "metadata": {},
   "outputs": [
    {
     "name": "stderr",
     "output_type": "stream",
     "text": [
      "/usr/local/lib/python3.5/dist-packages/h5py/__init__.py:36: FutureWarning: Conversion of the second argument of issubdtype from `float` to `np.floating` is deprecated. In future, it will be treated as `np.float64 == np.dtype(float).type`.\n",
      "  from ._conv import register_converters as _register_converters\n"
     ]
    }
   ],
   "source": [
    "import numpy as np\n",
    "import tensorflow as tf"
   ]
  },
  {
   "cell_type": "code",
   "execution_count": 3,
   "metadata": {},
   "outputs": [],
   "source": [
    "tf.set_random_seed(777)\n",
    "learning_rate = 0.1"
   ]
  },
  {
   "cell_type": "code",
   "execution_count": 4,
   "metadata": {},
   "outputs": [],
   "source": [
    "x_data = [[0, 0],\n",
    "          [0, 1],\n",
    "          [1, 0],\n",
    "          [1, 1]]\n",
    "y_data = [[0],\n",
    "          [1],\n",
    "          [1],\n",
    "          [0]]"
   ]
  },
  {
   "cell_type": "code",
   "execution_count": 5,
   "metadata": {},
   "outputs": [],
   "source": [
    "x_data = np.array(x_data, dtype=np.float32)\n",
    "y_data = np.array(y_data, dtype=np.float32)"
   ]
  },
  {
   "cell_type": "code",
   "execution_count": 6,
   "metadata": {},
   "outputs": [],
   "source": [
    "X = tf.placeholder(tf.float32, [None, 2])\n",
    "Y = tf.placeholder(tf.float32, [None, 1])"
   ]
  },
  {
   "cell_type": "code",
   "execution_count": 7,
   "metadata": {},
   "outputs": [],
   "source": [
    "W1 = tf.Variable(tf.random_normal([2, 2]), name='weight1')\n",
    "b1 = tf.Variable(tf.random_normal([2]), name='bias1')\n",
    "layer1 = tf.sigmoid(tf.matmul(X, W1) + b1)"
   ]
  },
  {
   "cell_type": "code",
   "execution_count": 8,
   "metadata": {},
   "outputs": [],
   "source": [
    "W2 = tf.Variable(tf.random_normal([2, 1]), name='weight2')\n",
    "b2 = tf.Variable(tf.random_normal([1]), name='bias2')\n",
    "hypothesis = tf.sigmoid(tf.matmul(layer1, W2) + b2)"
   ]
  },
  {
   "cell_type": "code",
   "execution_count": 9,
   "metadata": {},
   "outputs": [],
   "source": [
    "cost = -tf.reduce_mean(Y * tf.log(hypothesis) + (1 - Y) * tf.log(1 - hypothesis))\n",
    "\n",
    "train = tf.train.GradientDescentOptimizer(learning_rate=learning_rate).minimize(cost)"
   ]
  },
  {
   "cell_type": "code",
   "execution_count": 10,
   "metadata": {},
   "outputs": [],
   "source": [
    "predicted = tf.cast(hypothesis > 0.5, dtype=tf.float32)\n",
    "accuracy = tf.reduce_mean(tf.cast(tf.equal(predicted, Y), dtype=tf.float32))"
   ]
  },
  {
   "cell_type": "code",
   "execution_count": 11,
   "metadata": {},
   "outputs": [
    {
     "name": "stdout",
     "output_type": "stream",
     "text": [
      "0 0.7539022 [array([[ 0.7988674 ,  0.6801188 ],\n",
      "       [-1.2198634 , -0.30361032]], dtype=float32), array([[ 1.3752297 ],\n",
      "       [-0.78823847]], dtype=float32)]\n",
      "100 0.69584423 [array([[ 0.671669  ,  0.71368533],\n",
      "       [-1.2917174 , -0.24467792]], dtype=float32), array([[ 1.1212678 ],\n",
      "       [-0.90971726]], dtype=float32)]\n",
      "200 0.694039 [array([[ 0.64527303,  0.7046098 ],\n",
      "       [-1.318939  , -0.22392061]], dtype=float32), array([[ 1.0992552],\n",
      "       [-0.895172 ]], dtype=float32)]\n",
      "300 0.6924366 [array([[ 0.645278  ,  0.69601005],\n",
      "       [-1.3529738 , -0.20636196]], dtype=float32), array([[ 1.090277 ],\n",
      "       [-0.8809228]], dtype=float32)]\n",
      "400 0.6908046 [array([[ 0.6665332 ,  0.6891592 ],\n",
      "       [-1.3948005 , -0.19111179]], dtype=float32), array([[ 1.0908597 ],\n",
      "       [-0.86969215]], dtype=float32)]\n",
      "500 0.6889793 [array([[ 0.7063529 ,  0.6843806 ],\n",
      "       [-1.4450662 , -0.17811841]], dtype=float32), array([[ 1.1021909 ],\n",
      "       [-0.86151755]], dtype=float32)]\n",
      "600 0.68681204 [array([[ 0.7632087 ,  0.6819799 ],\n",
      "       [-1.504626  , -0.16744022]], dtype=float32), array([[ 1.1260483 ],\n",
      "       [-0.85649973]], dtype=float32)]\n",
      "700 0.68414605 [array([[ 0.836496  ,  0.68230695],\n",
      "       [-1.5744195 , -0.15923612]], dtype=float32), array([[ 1.1645077 ],\n",
      "       [-0.85485977]], dtype=float32)]\n",
      "800 0.6808021 [array([[ 0.926292  ,  0.68579733],\n",
      "       [-1.6554021 , -0.15377541]], dtype=float32), array([[ 1.2197549 ],\n",
      "       [-0.85694563]], dtype=float32)]\n",
      "900 0.67657316 [array([[ 1.0330844 ,  0.6930159 ],\n",
      "       [-1.7484907 , -0.15145327]], dtype=float32), array([[ 1.293878 ],\n",
      "       [-0.8632479]], dtype=float32)]\n",
      "1000 0.6712291 [array([[ 1.1574562 ,  0.70470023],\n",
      "       [-1.8544798 , -0.1528109 ]], dtype=float32), array([[ 1.3886282],\n",
      "       [-0.8744258]], dtype=float32)]\n",
      "1100 0.6645359 [array([[ 1.2997087 ,  0.7218018 ],\n",
      "       [-1.9739141 , -0.15856178]], dtype=float32), array([[ 1.5051455 ],\n",
      "       [-0.89133716]], dtype=float32)]\n",
      "1200 0.656289 [array([[ 1.4594588 ,  0.7455183 ],\n",
      "       [-2.1069143 , -0.16962197]], dtype=float32), array([[ 1.6436868 ],\n",
      "       [-0.91506493]], dtype=float32)]\n",
      "1300 0.64635646 [array([[ 1.635309  ,  0.7773058 ],\n",
      "       [-2.252974  , -0.18714121]], dtype=float32), array([[ 1.8034167 ],\n",
      "       [-0.94693005]], dtype=float32)]\n",
      "1400 0.6347176 [array([[ 1.8247268 ,  0.8188663 ],\n",
      "       [-2.410794  , -0.21252966]], dtype=float32), array([[ 1.9823459],\n",
      "       [-0.9884939]], dtype=float32)]\n",
      "1500 0.62146986 [array([[ 2.0242445 ,  0.8721092 ],\n",
      "       [-2.5782275 , -0.24747981]], dtype=float32), array([[ 2.1775005],\n",
      "       [-1.0415565]], dtype=float32)]\n",
      "1600 0.6067844 [array([[ 2.2299707 ,  0.93909883],\n",
      "       [-2.7524273 , -0.29399994]], dtype=float32), array([[ 2.3853369],\n",
      "       [-1.1081705]], dtype=float32)]\n",
      "1700 0.59081197 [array([[ 2.4382195 ,  1.0220113 ],\n",
      "       [-2.9301887 , -0.35449168]], dtype=float32), array([[ 2.6023207],\n",
      "       [-1.1906682]], dtype=float32)]\n",
      "1800 0.57356155 [array([[ 2.6460273,  1.1230903],\n",
      "       [-3.1083782, -0.4319001]], dtype=float32), array([[ 2.8255022],\n",
      "       [-1.2917069]], dtype=float32)]\n",
      "1900 0.5547905 [array([[ 2.8513803,  1.2445756],\n",
      "       [-3.2842975, -0.5299177]], dtype=float32), array([[ 3.0528824],\n",
      "       [-1.4143033]], dtype=float32)]\n",
      "2000 0.5339361 [array([[ 3.053097 ,  1.3885083],\n",
      "       [-3.4558659, -0.6531134]], dtype=float32), array([[ 3.283474],\n",
      "       [-1.561859]], dtype=float32)]\n",
      "2100 0.5101247 [array([[ 3.2504313 ,  1.5562977 ],\n",
      "       [-3.6216145 , -0.80667007]], dtype=float32), array([[ 3.5170045],\n",
      "       [-1.7380934]], dtype=float32)]\n",
      "2200 0.48234096 [array([[ 3.4425383 ,  1.7479417 ],\n",
      "       [-3.7805455 , -0.99522424]], dtype=float32), array([[ 3.7533429],\n",
      "       [-1.9466525]], dtype=float32)]\n",
      "2300 0.44984138 [array([[ 3.6280715,  1.961072 ],\n",
      "       [-3.9319441, -1.2204899]], dtype=float32), array([[ 3.9918826],\n",
      "       [-2.1899745]], dtype=float32)]\n",
      "2400 0.41275084 [array([[ 3.8052046,  2.1904547],\n",
      "       [-4.0752544, -1.4784234]], dtype=float32), array([[ 4.231223 ],\n",
      "       [-2.4673054]], dtype=float32)]\n",
      "2500 0.37245256 [array([[ 3.9720519,  2.428559 ],\n",
      "       [-4.2100306, -1.7581933]], dtype=float32), array([[ 4.469306],\n",
      "       [-2.772906]], dtype=float32)]\n",
      "2600 0.33132744 [array([[ 4.127145 ,  2.667004 ],\n",
      "       [-4.3359613, -2.0447462]], dtype=float32), array([[ 4.7037673],\n",
      "       [-3.096268 ]], dtype=float32)]\n",
      "2700 0.2919077 [array([[ 4.2696815,  2.898184 ],\n",
      "       [-4.45292  , -2.323611 ]], dtype=float32), array([[ 4.932288 ],\n",
      "       [-3.4247892]], dtype=float32)]\n",
      "2800 0.25606003 [array([[ 4.399534 ,  3.1164253],\n",
      "       [-4.5610156, -2.5845594]], dtype=float32), array([[ 5.152868],\n",
      "       [-3.747133]], dtype=float32)]\n",
      "2900 0.22468188 [array([[ 4.5171614,  3.3184152],\n",
      "       [-4.6605887, -2.8224583]], dtype=float32), array([[ 5.3640304],\n",
      "       [-4.055268 ]], dtype=float32)]\n",
      "3000 0.1978668 [array([[ 4.6234245,  3.5029488],\n",
      "       [-4.752163 , -3.036145 ]], dtype=float32), array([[ 5.5649056],\n",
      "       [-4.3447247]], dtype=float32)]\n",
      "3100 0.17523661 [array([[ 4.719409 ,  3.6703112],\n",
      "       [-4.836381 , -3.226815 ]], dtype=float32), array([[ 5.755166 ],\n",
      "       [-4.6138434]], dtype=float32)]\n",
      "3200 0.15622242 [array([[ 4.8062506,  3.8216534],\n",
      "       [-4.9139175, -3.3967354]], dtype=float32), array([[ 5.9349103],\n",
      "       [-4.8627577]], dtype=float32)]\n",
      "3300 0.14023177 [array([[ 4.8850565,  3.9585102],\n",
      "       [-4.985447 , -3.548473 ]], dtype=float32), array([[ 6.1045175],\n",
      "       [-5.0925927]], dtype=float32)]\n",
      "3400 0.12672828 [array([[ 4.9568415,  4.082506 ],\n",
      "       [-5.0516014, -3.6844974]], dtype=float32), array([[ 6.264536],\n",
      "       [-5.304915]], dtype=float32)]\n",
      "3500 0.11525793 [array([[ 5.0224953,  4.1951914],\n",
      "       [-5.1129546, -3.8070166]], dtype=float32), array([[ 6.4156   ],\n",
      "       [-5.5014105]], dtype=float32)]\n",
      "3600 0.10544854 [array([[ 5.0827985,  4.2979736],\n",
      "       [-5.1700134, -3.917935 ]], dtype=float32), array([[ 6.5583553],\n",
      "       [-5.6837215]], dtype=float32)]\n",
      "3700 0.09700039 [array([[ 5.1384068,  4.3920865],\n",
      "       [-5.223237 , -4.0188656]], dtype=float32), array([[ 6.693447 ],\n",
      "       [-5.8533635]], dtype=float32)]\n",
      "3800 0.08967343 [array([[ 5.189897 ,  4.4786034],\n",
      "       [-5.2730236, -4.1111627]], dtype=float32), array([[ 6.821481 ],\n",
      "       [-6.0116982]], dtype=float32)]\n",
      "3900 0.08327566 [array([[ 5.237753 ,  4.558449 ],\n",
      "       [-5.3197265, -4.1959615]], dtype=float32), array([[ 6.943025 ],\n",
      "       [-6.1599293]], dtype=float32)]\n",
      "4000 0.07765333 [array([[ 5.282392 ,  4.63241  ],\n",
      "       [-5.363648 , -4.2742133]], dtype=float32), array([[ 7.058602],\n",
      "       [-6.299107]], dtype=float32)]\n",
      "4100 0.07268217 [array([[ 5.3241673,  4.701171 ],\n",
      "       [-5.4050617, -4.34672  ]], dtype=float32), array([[ 7.1686897],\n",
      "       [-6.4301567]], dtype=float32)]\n",
      "4200 0.06826201 [array([[ 5.363381 ,  4.765296 ],\n",
      "       [-5.4441967, -4.414157 ]], dtype=float32), array([[ 7.273726],\n",
      "       [-6.553883]], dtype=float32)]\n",
      "4300 0.064310886 [array([[ 5.4003005,  4.825292 ],\n",
      "       [-5.4812636, -4.4771013]], dtype=float32), array([[ 7.374087],\n",
      "       [-6.670991]], dtype=float32)]\n",
      "4400 0.060761556 [array([[ 5.4351525,  4.8815904],\n",
      "       [-5.5164433, -4.536039 ]], dtype=float32), array([[ 7.470135],\n",
      "       [-6.782097]], dtype=float32)]\n",
      "4500 0.0575586 [array([[ 5.468133 ,  4.934562 ],\n",
      "       [-5.5498977, -4.5913916]], dtype=float32), array([[ 7.562191 ],\n",
      "       [-6.8877373]], dtype=float32)]\n",
      "4600 0.054655917 [array([[ 5.499414 ,  4.98453  ],\n",
      "       [-5.5817704, -4.643521 ]], dtype=float32), array([[ 7.650545],\n",
      "       [-6.98839 ]], dtype=float32)]\n",
      "4700 0.052014828 [array([[ 5.529149 ,  5.031776 ],\n",
      "       [-5.6121883, -4.69274  ]], dtype=float32), array([[ 7.7354574],\n",
      "       [-7.0844784]], dtype=float32)]\n",
      "4800 0.049602933 [array([[ 5.55747  ,  5.0765476],\n",
      "       [-5.6412654, -4.7393217]], dtype=float32), array([[ 7.817166],\n",
      "       [-7.176372]], dtype=float32)]\n",
      "4900 0.047392756 [array([[ 5.584492,  5.119062],\n",
      "       [-5.669103, -4.783504]], dtype=float32), array([[ 7.895887 ],\n",
      "       [-7.2644014]], dtype=float32)]\n",
      "5000 0.04536082 [array([[ 5.610321 ,  5.1595116],\n",
      "       [-5.695793 , -4.825497 ]], dtype=float32), array([[ 7.971818 ],\n",
      "       [-7.3488626]], dtype=float32)]\n",
      "5100 0.043487232 [array([[ 5.63505  ,  5.198066 ],\n",
      "       [-5.7214184, -4.865485 ]], dtype=float32), array([[ 8.045136 ],\n",
      "       [-7.4300194]], dtype=float32)]\n",
      "5200 0.04175476 [array([[ 5.6587605,  5.2348766],\n",
      "       [-5.7460504, -4.903632 ]], dtype=float32), array([[ 8.116003 ],\n",
      "       [-7.5081105]], dtype=float32)]\n",
      "5300 0.040148474 [array([[ 5.681528 ,  5.270076 ],\n",
      "       [-5.7697577, -4.940082 ]], dtype=float32), array([[ 8.184571],\n",
      "       [-7.583347]], dtype=float32)]\n",
      "5400 0.03865556 [array([[ 5.7034197,  5.303787 ],\n",
      "       [-5.7926016, -4.974966 ]], dtype=float32), array([[ 8.250976],\n",
      "       [-7.655922]], dtype=float32)]\n"
     ]
    },
    {
     "name": "stdout",
     "output_type": "stream",
     "text": [
      "5500 0.037264757 [array([[ 5.7244945,  5.336118 ],\n",
      "       [-5.814636 , -5.0084014]], dtype=float32), array([[ 8.315342],\n",
      "       [-7.72601 ]], dtype=float32)]\n",
      "5600 0.035966218 [array([[ 5.7448063,  5.3671665],\n",
      "       [-5.835913 , -5.0404897]], dtype=float32), array([[ 8.377787],\n",
      "       [-7.793771]], dtype=float32)]\n",
      "5700 0.03475129 [array([[ 5.764405 ,  5.39702  ],\n",
      "       [-5.8564777, -5.0713267]], dtype=float32), array([[ 8.438415],\n",
      "       [-7.859348]], dtype=float32)]\n",
      "5800 0.03361243 [array([[ 5.7833366,  5.4257593],\n",
      "       [-5.876374 , -5.1009974]], dtype=float32), array([[ 8.497322 ],\n",
      "       [-7.9228725]], dtype=float32)]\n",
      "5900 0.032542817 [array([[ 5.801642 ,  5.4534564],\n",
      "       [-5.8956375, -5.129578 ]], dtype=float32), array([[ 8.554606 ],\n",
      "       [-7.9844666]], dtype=float32)]\n",
      "6000 0.031536564 [array([[ 5.819358 ,  5.4801764],\n",
      "       [-5.914306 , -5.1571383]], dtype=float32), array([[ 8.610341],\n",
      "       [-8.044239]], dtype=float32)]\n",
      "6100 0.030588254 [array([[ 5.836518,  5.505981],\n",
      "       [-5.932412, -5.183743]], dtype=float32), array([[ 8.66461 ],\n",
      "       [-8.102289]], dtype=float32)]\n",
      "6200 0.029693166 [array([[ 5.853154 ,  5.5309243],\n",
      "       [-5.949986 , -5.2094502]], dtype=float32), array([[ 8.7174835],\n",
      "       [-8.158716 ]], dtype=float32)]\n",
      "6300 0.028847102 [array([[ 5.869296 ,  5.555055 ],\n",
      "       [-5.9670553, -5.234313 ]], dtype=float32), array([[ 8.769032],\n",
      "       [-8.2136  ]], dtype=float32)]\n",
      "6400 0.028046183 [array([[ 5.8849688,  5.578424 ],\n",
      "       [-5.983647 , -5.2583804]], dtype=float32), array([[ 8.819315],\n",
      "       [-8.267023]], dtype=float32)]\n",
      "6500 0.027286937 [array([[ 5.9001994,  5.6010704],\n",
      "       [-5.999783 , -5.2816963]], dtype=float32), array([[ 8.868396],\n",
      "       [-8.319061]], dtype=float32)]\n",
      "6600 0.02656633 [array([[ 5.91501  ,  5.6230345],\n",
      "       [-6.015487 , -5.304303 ]], dtype=float32), array([[ 8.916321],\n",
      "       [-8.36978 ]], dtype=float32)]\n",
      "6700 0.025881503 [array([[ 5.9294205,  5.6443543],\n",
      "       [-6.0307813, -5.326239 ]], dtype=float32), array([[ 8.963146],\n",
      "       [-8.419242]], dtype=float32)]\n",
      "6800 0.025229974 [array([[ 5.943453 ,  5.665061 ],\n",
      "       [-6.045684 , -5.3475394]], dtype=float32), array([[ 9.008919],\n",
      "       [-8.467508]], dtype=float32)]\n",
      "6900 0.024609346 [array([[ 5.957122 ,  5.6851873],\n",
      "       [-6.0602107, -5.368236 ]], dtype=float32), array([[ 9.053683],\n",
      "       [-8.514635]], dtype=float32)]\n",
      "7000 0.024017539 [array([[ 5.970447 ,  5.7047625],\n",
      "       [-6.074383 , -5.3883605]], dtype=float32), array([[ 9.097483],\n",
      "       [-8.560672]], dtype=float32)]\n",
      "7100 0.02345264 [array([[ 5.9834447,  5.7238116],\n",
      "       [-6.0882134, -5.40794  ]], dtype=float32), array([[ 9.140356],\n",
      "       [-8.605669]], dtype=float32)]\n",
      "7200 0.022912856 [array([[ 5.9961276,  5.7423606],\n",
      "       [-6.1017184, -5.427002 ]], dtype=float32), array([[ 9.182341],\n",
      "       [-8.649668]], dtype=float32)]\n",
      "7300 0.022396632 [array([[ 6.008512 ,  5.7604337],\n",
      "       [-6.114912 , -5.4455705]], dtype=float32), array([[ 9.223471],\n",
      "       [-8.692715]], dtype=float32)]\n",
      "7400 0.021902483 [array([[ 6.0206084,  5.778052 ],\n",
      "       [-6.1278057, -5.463667 ]], dtype=float32), array([[ 9.2637825],\n",
      "       [-8.734846 ]], dtype=float32)]\n",
      "7500 0.021429015 [array([[ 6.0324316,  5.7952356],\n",
      "       [-6.140413 , -5.481314 ]], dtype=float32), array([[ 9.303302],\n",
      "       [-8.776102]], dtype=float32)]\n",
      "7600 0.020974983 [array([[ 6.0439916,  5.812005 ],\n",
      "       [-6.1527443, -5.4985313]], dtype=float32), array([[ 9.342064],\n",
      "       [-8.816517]], dtype=float32)]\n",
      "7700 0.020539287 [array([[ 6.0553   ,  5.8283772],\n",
      "       [-6.164813 , -5.5153375]], dtype=float32), array([[ 9.380093],\n",
      "       [-8.856121]], dtype=float32)]\n",
      "7800 0.020120762 [array([[ 6.0663652,  5.84437  ],\n",
      "       [-6.176627 , -5.531751 ]], dtype=float32), array([[ 9.417418],\n",
      "       [-8.894948]], dtype=float32)]\n",
      "7900 0.019718505 [array([[ 6.077197 ,  5.8599973],\n",
      "       [-6.1881976, -5.5477886]], dtype=float32), array([[ 9.4540615],\n",
      "       [-8.933028 ]], dtype=float32)]\n",
      "8000 0.019331548 [array([[ 6.087807 ,  5.8752766],\n",
      "       [-6.199533 , -5.5634637]], dtype=float32), array([[ 9.490048 ],\n",
      "       [-8.9703865]], dtype=float32)]\n",
      "8100 0.018959116 [array([[ 6.0982018,  5.8902197],\n",
      "       [-6.2106423, -5.578793 ]], dtype=float32), array([[ 9.525403],\n",
      "       [-9.007052]], dtype=float32)]\n",
      "8200 0.018600369 [array([[ 6.1083903,  5.904842 ],\n",
      "       [-6.221534 , -5.593789 ]], dtype=float32), array([[ 9.560142],\n",
      "       [-9.043049]], dtype=float32)]\n",
      "8300 0.018254593 [array([[ 6.1183786,  5.9191537],\n",
      "       [-6.2322154, -5.608466 ]], dtype=float32), array([[ 9.59429  ],\n",
      "       [-9.0784025]], dtype=float32)]\n",
      "8400 0.017921105 [array([[ 6.128175 ,  5.933168 ],\n",
      "       [-6.2426944, -5.622834 ]], dtype=float32), array([[ 9.627868],\n",
      "       [-9.113129]], dtype=float32)]\n",
      "8500 0.017599303 [array([[ 6.137785,  5.946896],\n",
      "       [-6.252978, -5.636907]], dtype=float32), array([[ 9.660892],\n",
      "       [-9.147255]], dtype=float32)]\n",
      "8600 0.017288534 [array([[ 6.1472163,  5.960348 ],\n",
      "       [-6.263072 , -5.6506953]], dtype=float32), array([[ 9.693375],\n",
      "       [-9.1808  ]], dtype=float32)]\n",
      "8700 0.016988242 [array([[ 6.156477 ,  5.9735336],\n",
      "       [-6.2729836, -5.66421  ]], dtype=float32), array([[ 9.725344],\n",
      "       [-9.213782]], dtype=float32)]\n",
      "8800 0.01669798 [array([[ 6.1655684,  5.986464 ],\n",
      "       [-6.2827196, -5.6774583]], dtype=float32), array([[ 9.756805],\n",
      "       [-9.246222]], dtype=float32)]\n",
      "8900 0.01641725 [array([[ 6.1745005,  5.9991465],\n",
      "       [-6.2922835, -5.690452 ]], dtype=float32), array([[ 9.787781],\n",
      "       [-9.278133]], dtype=float32)]\n",
      "9000 0.016145576 [array([[ 6.183277 ,  6.0115905],\n",
      "       [-6.3016844, -5.7032   ]], dtype=float32), array([[ 9.818282],\n",
      "       [-9.309538]], dtype=float32)]\n",
      "9100 0.015882462 [array([[ 6.1919017,  6.0238023],\n",
      "       [-6.310923 , -5.7157097]], dtype=float32), array([[ 9.848322 ],\n",
      "       [-9.3404455]], dtype=float32)]\n",
      "9200 0.015627678 [array([[ 6.200381,  6.035793],\n",
      "       [-6.320008, -5.72799 ]], dtype=float32), array([[ 9.877915],\n",
      "       [-9.370873]], dtype=float32)]\n",
      "9300 0.0153807 [array([[ 6.2087193,  6.047568 ],\n",
      "       [-6.328943 , -5.740049 ]], dtype=float32), array([[ 9.907079],\n",
      "       [-9.400836]], dtype=float32)]\n",
      "9400 0.01514128 [array([[ 6.2169204,  6.0591345],\n",
      "       [-6.337732 , -5.751891 ]], dtype=float32), array([[ 9.935818],\n",
      "       [-9.430349]], dtype=float32)]\n",
      "9500 0.014908974 [array([[ 6.2249875,  6.0704985],\n",
      "       [-6.3463798, -5.763526 ]], dtype=float32), array([[ 9.964148],\n",
      "       [-9.459426]], dtype=float32)]\n",
      "9600 0.014683579 [array([[ 6.232927 ,  6.0816674],\n",
      "       [-6.3548903, -5.7749605]], dtype=float32), array([[ 9.99208 ],\n",
      "       [-9.488075]], dtype=float32)]\n",
      "9700 0.014464697 [array([[ 6.2407427,  6.0926485],\n",
      "       [-6.3632693, -5.7861996]], dtype=float32), array([[10.019625],\n",
      "       [-9.516312]], dtype=float32)]\n",
      "9800 0.014252113 [array([[ 6.248434 ,  6.1034465],\n",
      "       [-6.371518 , -5.7972493]], dtype=float32), array([[10.046793],\n",
      "       [-9.544148]], dtype=float32)]\n",
      "9900 0.014045564 [array([[ 6.2560105,  6.114064 ],\n",
      "       [-6.37964  , -5.808116 ]], dtype=float32), array([[10.073595],\n",
      "       [-9.571595]], dtype=float32)]\n",
      "10000 0.013844791 [array([[ 6.263471 ,  6.1245112],\n",
      "       [-6.3876433, -5.818806 ]], dtype=float32), array([[10.100041],\n",
      "       [-9.598662]], dtype=float32)]\n",
      "Hypothesis:  [[0.01338218]\n",
      " [0.98166394]\n",
      " [0.98809403]\n",
      " [0.01135799]]\n",
      "Correct:  [[0.]\n",
      " [1.]\n",
      " [1.]\n",
      " [0.]]\n",
      "Accuracy:  1.0\n"
     ]
    }
   ],
   "source": [
    "with tf.Session() as sess:\n",
    "    sess.run(tf.global_variables_initializer())\n",
    "    \n",
    "    for step in range(10001):\n",
    "        sess.run(train, feed_dict={X: x_data, Y: y_data})\n",
    "        if step % 100 == 0:\n",
    "            print(step, sess.run(cost, feed_dict={\n",
    "                X: x_data, Y: y_data}), sess.run([W1, W2]))\n",
    "            \n",
    "    h, c, a = sess.run([hypothesis, predicted, accuracy],\n",
    "                      feed_dict={X: x_data, Y: y_data})\n",
    "    print(\"Hypothesis: \", h)\n",
    "    print(\"Correct: \", c)\n",
    "    print(\"Accuracy: \", a)"
   ]
  },
  {
   "cell_type": "code",
   "execution_count": 12,
   "metadata": {},
   "outputs": [],
   "source": [
    "#practice9_2"
   ]
  },
  {
   "cell_type": "code",
   "execution_count": 13,
   "metadata": {},
   "outputs": [],
   "source": [
    "from tensorflow.examples.tutorials.mnist import input_data\n",
    "import numpy as np\n",
    "import tensorflow as tf\n",
    "import matplotlib.pyplot as plt\n",
    "%matplotlib inline"
   ]
  },
  {
   "cell_type": "code",
   "execution_count": 14,
   "metadata": {},
   "outputs": [],
   "source": [
    "tf.set_random_seed(777)"
   ]
  },
  {
   "cell_type": "code",
   "execution_count": 15,
   "metadata": {},
   "outputs": [
    {
     "name": "stdout",
     "output_type": "stream",
     "text": [
      "Extracting MNIST_data/train-images-idx3-ubyte.gz\n",
      "Extracting MNIST_data/train-labels-idx1-ubyte.gz\n",
      "Extracting MNIST_data/t10k-images-idx3-ubyte.gz\n",
      "Extracting MNIST_data/t10k-labels-idx1-ubyte.gz\n"
     ]
    }
   ],
   "source": [
    "mnist = input_data.read_data_sets(\"MNIST_data/\", one_hot=True)"
   ]
  },
  {
   "cell_type": "code",
   "execution_count": 16,
   "metadata": {},
   "outputs": [],
   "source": [
    "learning_rate = 0.001\n",
    "training_epochs = 15\n",
    "batch_size = 100"
   ]
  },
  {
   "cell_type": "code",
   "execution_count": 17,
   "metadata": {},
   "outputs": [],
   "source": [
    "X = tf.placeholder(tf.float32, [None, 784])\n",
    "Y = tf.placeholder(tf.float32, [None, 10])"
   ]
  },
  {
   "cell_type": "code",
   "execution_count": 18,
   "metadata": {},
   "outputs": [],
   "source": [
    "W1 = tf.get_variable(\"W1\", shape=[784, 512],\n",
    "                    initializer = tf.contrib.layers.xavier_initializer())\n",
    "b1 = tf.Variable(tf.random_normal([512]))\n",
    "L1 = tf.nn.relu(tf.matmul(X, W1) + b1)\n",
    "\n",
    "W2 = tf.get_variable(\"W2\", shape=[512, 512],\n",
    "                    initializer = tf.contrib.layers.xavier_initializer())\n",
    "b2 = tf.Variable(tf.random_normal([512]))\n",
    "L2 = tf.nn.relu(tf.matmul(L1, W2) + b2)\n",
    "\n",
    "W3 = tf.get_variable(\"W3\", shape=[512, 512],\n",
    "                    initializer = tf.contrib.layers.xavier_initializer())\n",
    "b3 = tf.Variable(tf.random_normal([512]))\n",
    "L3 = tf.nn.relu(tf.matmul(L2, W3) + b3)\n",
    "\n",
    "W4 = tf.get_variable(\"W4\", shape=[512, 512],\n",
    "                    initializer = tf.contrib.layers.xavier_initializer())\n",
    "b4 = tf.Variable(tf.random_normal([512]))\n",
    "L4 = tf.nn.relu(tf.matmul(L3, W4) + b4)\n",
    "\n",
    "W5 = tf.get_variable(\"W5\", shape=[512, 10],\n",
    "                    initializer=tf.contrib.layers.xavier_initializer())\n",
    "b5 = tf.Variable(tf.random_normal([10]))\n",
    "hypothesis = tf.matmul(L4, W5) + b5"
   ]
  },
  {
   "cell_type": "code",
   "execution_count": 19,
   "metadata": {},
   "outputs": [],
   "source": [
    "cost = tf.reduce_mean(tf.nn.softmax_cross_entropy_with_logits(logits=hypothesis, labels=Y))\n",
    "optimizer = tf.train.AdamOptimizer(learning_rate=learning_rate).minimize(cost)"
   ]
  },
  {
   "cell_type": "code",
   "execution_count": 20,
   "metadata": {},
   "outputs": [],
   "source": [
    "sess = tf.Session()\n",
    "sess.run(tf.global_variables_initializer())"
   ]
  },
  {
   "cell_type": "code",
   "execution_count": 21,
   "metadata": {},
   "outputs": [
    {
     "name": "stdout",
     "output_type": "stream",
     "text": [
      "Epoch: 0001 cost = 0.315003238\n",
      "Epoch: 0002 cost = 0.103676012\n",
      "Epoch: 0003 cost = 0.069611966\n",
      "Epoch: 0004 cost = 0.050808097\n",
      "Epoch: 0005 cost = 0.038271351\n",
      "Epoch: 0006 cost = 0.035270665\n",
      "Epoch: 0007 cost = 0.032025996\n",
      "Epoch: 0008 cost = 0.024121415\n",
      "Epoch: 0009 cost = 0.024366730\n",
      "Epoch: 0010 cost = 0.020516458\n",
      "Epoch: 0011 cost = 0.021180982\n",
      "Epoch: 0012 cost = 0.014988296\n",
      "Epoch: 0013 cost = 0.017498998\n",
      "Epoch: 0014 cost = 0.015888847\n",
      "Epoch: 0015 cost = 0.016418472\n",
      "Learning Finished!\n"
     ]
    }
   ],
   "source": [
    "for epoch in range(training_epochs):\n",
    "    avg_cost = 0\n",
    "    total_batch = int(mnist.train.num_examples / batch_size)\n",
    "    \n",
    "    for i in range(total_batch):\n",
    "        batch_xs, batch_ys = mnist.train.next_batch(batch_size)\n",
    "        feed_dict = {X: batch_xs, Y: batch_ys}\n",
    "        c, _ = sess.run([cost, optimizer], feed_dict = feed_dict)\n",
    "        avg_cost += c / total_batch\n",
    "        \n",
    "    print('Epoch:', '%04d' % (epoch + 1), 'cost =', '{:.9f}'.format(avg_cost))\n",
    "    \n",
    "print('Learning Finished!')"
   ]
  },
  {
   "cell_type": "code",
   "execution_count": 22,
   "metadata": {},
   "outputs": [
    {
     "name": "stdout",
     "output_type": "stream",
     "text": [
      "Accuracy: 0.9748\n"
     ]
    }
   ],
   "source": [
    "correct_prediction = tf.equal(tf.argmax(hypothesis, 1), tf.argmax(Y, 1))\n",
    "accuracy = tf.reduce_mean(tf.cast(correct_prediction, tf.float32))\n",
    "print('Accuracy:', sess.run(accuracy, feed_dict={X: mnist.test.images, Y: mnist.test.labels}))"
   ]
  },
  {
   "cell_type": "code",
   "execution_count": 23,
   "metadata": {},
   "outputs": [
    {
     "name": "stdout",
     "output_type": "stream",
     "text": [
      "Label:  [9]\n",
      "Prediction:  [5]\n"
     ]
    },
    {
     "data": {
      "image/png": "[encoded data removed]",
      "text/plain": [
       "<matplotlib.figure.Figure at 0x7fd20a5f70b8>"
      ]
     },
     "metadata": {},
     "output_type": "display_data"
    }
   ],
   "source": [
    "r = np.random.randint(0, mnist.test.num_examples - 1)\n",
    "print(\"Label: \", sess.run(tf.argmax(mnist.test.labels[r:r + 1], 1)))\n",
    "print(\"Prediction: \", sess.run(\n",
    "    tf.argmax(hypothesis, 1), feed_dict={X: mnist.test.images[r:r + 1]}))\n",
    "\n",
    "plt.imshow(mnist.test.images[r:r + 1].reshape(28, 28), cmap = 'Greys', interpolation = 'nearest')\n",
    "plt.show()"
   ]
  },
  {
   "cell_type": "code",
   "execution_count": 24,
   "metadata": {},
   "outputs": [],
   "source": [
    "#practice9_3\n",
    "tf.reset_default_graph ()"
   ]
  },
  {
   "cell_type": "code",
   "execution_count": 25,
   "metadata": {},
   "outputs": [],
   "source": [
    "import tensorflow as tf\n",
    "import random\n",
    "import matplotlib.pyplot as plt\n",
    "from tensorflow.examples.tutorials.mnist import input_data\n",
    "%matplotlib inline"
   ]
  },
  {
   "cell_type": "code",
   "execution_count": 26,
   "metadata": {},
   "outputs": [],
   "source": [
    "tf.set_random_seed(777)"
   ]
  },
  {
   "cell_type": "code",
   "execution_count": 27,
   "metadata": {},
   "outputs": [
    {
     "name": "stdout",
     "output_type": "stream",
     "text": [
      "Extracting MNIST_data/train-images-idx3-ubyte.gz\n",
      "Extracting MNIST_data/train-labels-idx1-ubyte.gz\n",
      "Extracting MNIST_data/t10k-images-idx3-ubyte.gz\n",
      "Extracting MNIST_data/t10k-labels-idx1-ubyte.gz\n"
     ]
    }
   ],
   "source": [
    "mnist = input_data.read_data_sets(\"MNIST_data/\", one_hot = True)"
   ]
  },
  {
   "cell_type": "code",
   "execution_count": 28,
   "metadata": {},
   "outputs": [],
   "source": [
    "learning_rate = 0.001\n",
    "training_epochs = 15\n",
    "batch_size = 100"
   ]
  },
  {
   "cell_type": "code",
   "execution_count": 29,
   "metadata": {},
   "outputs": [],
   "source": [
    "X = tf.placeholder(tf.float32, [None, 784])\n",
    "X_img = tf.reshape(X, [-1, 28, 28, 1])\n",
    "Y = tf.placeholder(tf.float32, [None, 10])"
   ]
  },
  {
   "cell_type": "code",
   "execution_count": 30,
   "metadata": {},
   "outputs": [],
   "source": [
    "W1 = tf.Variable(tf.random_normal([3, 3, 1, 32], stddev = 0.01))\n",
    "                 \n",
    "L1 = tf.nn.conv2d(X_img, W1, strides = [1, 1, 1, 1], padding = 'SAME')\n",
    "L1 = tf.nn.relu(L1)\n",
    "L1 = tf.nn.max_pool(L1, ksize = [1, 2, 2, 1], strides = [1, 2, 2, 1], padding = 'SAME')"
   ]
  },
  {
   "cell_type": "code",
   "execution_count": 31,
   "metadata": {},
   "outputs": [],
   "source": [
    "W2 = tf.Variable(tf.random_normal([3, 3, 32, 64], stddev = 0.01))\n",
    "                 \n",
    "L2 = tf.nn.conv2d(L1, W2, strides = [1, 1, 1, 1], padding = 'SAME')\n",
    "L2 = tf.nn.relu(L2)\n",
    "L2 = tf.nn.max_pool(L2, ksize = [1, 2, 2, 1], strides = [1, 2, 2, 1], padding = 'SAME')\n",
    "L2_flat = tf.reshape(L2, [-1, 7 * 7 * 64])"
   ]
  },
  {
   "cell_type": "code",
   "execution_count": 32,
   "metadata": {},
   "outputs": [],
   "source": [
    "W3 = tf.get_variable(\"W3\", shape = [7 * 7 * 64, 10], initializer = tf.contrib.layers.xavier_initializer())\n",
    "b = tf.Variable(tf.random_normal([10]))\n",
    "logits = tf.matmul(L2_flat, W3) + b"
   ]
  },
  {
   "cell_type": "code",
   "execution_count": 33,
   "metadata": {},
   "outputs": [],
   "source": [
    "cost = tf.reduce_mean(tf.nn.softmax_cross_entropy_with_logits(logits = logits, labels = Y))\n",
    "optimizer = tf.train.AdamOptimizer(learning_rate = learning_rate).minimize(cost)"
   ]
  },
  {
   "cell_type": "code",
   "execution_count": 34,
   "metadata": {},
   "outputs": [],
   "source": [
    "sess = tf.Session()\n",
    "sess.run(tf.global_variables_initializer())"
   ]
  },
  {
   "cell_type": "code",
   "execution_count": 35,
   "metadata": {},
   "outputs": [
    {
     "name": "stdout",
     "output_type": "stream",
     "text": [
      "Learning started. It takes sometime.\n",
      "Epoch: 0001 cost = 0.345595875\n",
      "Epoch: 0002 cost = 0.091787756\n",
      "Epoch: 0003 cost = 0.068287600\n",
      "Epoch: 0004 cost = 0.056504838\n",
      "Epoch: 0005 cost = 0.046986474\n",
      "Epoch: 0006 cost = 0.040973744\n",
      "Epoch: 0007 cost = 0.036622457\n",
      "Epoch: 0008 cost = 0.032798450\n",
      "Epoch: 0009 cost = 0.027992232\n",
      "Epoch: 0010 cost = 0.024833299\n",
      "Epoch: 0011 cost = 0.022272548\n",
      "Epoch: 0012 cost = 0.020419940\n",
      "Epoch: 0013 cost = 0.017038902\n",
      "Epoch: 0014 cost = 0.015615687\n",
      "Epoch: 0015 cost = 0.013097098\n",
      "Learning Finished!\n"
     ]
    }
   ],
   "source": [
    "print('Learning started. It takes sometime.')\n",
    "for epoch in range(training_epochs):\n",
    "    avg_cost = 0\n",
    "    total_batch = int(mnist.train.num_examples / batch_size)\n",
    "    \n",
    "    for i in range(total_batch):\n",
    "        batch_xs, batch_ys = mnist.train.next_batch(batch_size)\n",
    "        feed_dict = {X: batch_xs, Y: batch_ys}\n",
    "        c, _ = sess.run([cost, optimizer], feed_dict = feed_dict)\n",
    "        avg_cost += c / total_batch\n",
    "        \n",
    "    print('Epoch:', '%04d' % (epoch + 1), 'cost =', '{:.9f}'.format(avg_cost))\n",
    "    \n",
    "print('Learning Finished!')"
   ]
  },
  {
   "cell_type": "code",
   "execution_count": 36,
   "metadata": {},
   "outputs": [
    {
     "name": "stdout",
     "output_type": "stream",
     "text": [
      "Accuracy: 0.9886\n"
     ]
    }
   ],
   "source": [
    "correct_prediction = tf.equal(tf.argmax(logits, 1), tf.argmax(Y, 1))\n",
    "accuracy = tf.reduce_mean(tf.cast(correct_prediction, tf.float32))\n",
    "print('Accuracy:', sess.run(accuracy, feed_dict = {X: mnist.test.images, Y: mnist.test.labels}))"
   ]
  },
  {
   "cell_type": "code",
   "execution_count": 37,
   "metadata": {},
   "outputs": [
    {
     "name": "stdout",
     "output_type": "stream",
     "text": [
      "Label:  [7]\n",
      "Prediction:  [7]\n"
     ]
    },
    {
     "data": {
      "image/png": "[encoded data removed]",
      "text/plain": [
       "<matplotlib.figure.Figure at 0x7fd20ab6b9b0>"
      ]
     },
     "metadata": {},
     "output_type": "display_data"
    }
   ],
   "source": [
    "r = random.randint(0, mnist.test.num_examples - 1)\n",
    "print(\"Label: \", sess.run(tf.argmax(mnist.test.labels[r:r + 1], 1)))\n",
    "print(\"Prediction: \", sess.run(\n",
    "    tf.argmax(logits, 1), feed_dict = {X: mnist.test.images[r:r + 1]}))\n",
    "\n",
    "plt.imshow(mnist.test.images[r:r + 1].reshape(28, 28), cmap = 'Greys', interpolation = 'nearest')\n",
    "plt.show()"
   ]
  }
 ],
 "metadata": {
  "kernelspec": {
   "display_name": "Python 3",
   "language": "python",
   "name": "python3"
  },
  "language_info": {
   "codemirror_mode": {
    "name": "ipython",
    "version": 3
   },
   "file_extension": ".py",
   "mimetype": "text/x-python",
   "name": "python",
   "nbconvert_exporter": "python",
   "pygments_lexer": "ipython3",
   "version": "3.5.2"
  }
 },
 "nbformat": 4,
 "nbformat_minor": 2
}
